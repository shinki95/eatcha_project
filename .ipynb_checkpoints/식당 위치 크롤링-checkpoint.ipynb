{
 "cells": [
  {
   "cell_type": "code",
   "execution_count": 10,
   "metadata": {
    "collapsed": false
   },
   "outputs": [
    {
     "name": "stdout",
     "output_type": "stream",
     "text": [
      "모힝 {'lat': 37.4776649, 'lng': 126.9589628}\n",
      "육첩반상 {'lat': 37.4792085, 'lng': 126.9532467}\n",
      "차이나당 {'lat': 37.4771077, 'lng': 126.9588012}\n",
      "쟝블랑제리 {'lat': 37.4770362, 'lng': 126.9619181}\n",
      "김창일스시 {'lat': 37.4751395, 'lng': 126.9671789}\n"
     ]
    },
    {
     "ename": "IndexError",
     "evalue": "list index out of range",
     "output_type": "error",
     "traceback": [
      "\u001b[0;31m---------------------------------------\u001b[0m",
      "\u001b[0;31mIndexError\u001b[0mTraceback (most recent call last)",
      "\u001b[0;32m<ipython-input-10-9f4f9425fdf7>\u001b[0m in \u001b[0;36m<module>\u001b[0;34m()\u001b[0m\n\u001b[1;32m      5\u001b[0m     \u001b[0mget_params\u001b[0m \u001b[1;33m=\u001b[0m \u001b[1;33m[\u001b[0m\u001b[1;33m(\u001b[0m\u001b[1;34m'sensor'\u001b[0m\u001b[1;33m,\u001b[0m \u001b[1;34m'false'\u001b[0m\u001b[1;33m)\u001b[0m\u001b[1;33m,\u001b[0m\u001b[1;33m(\u001b[0m\u001b[1;34m'language'\u001b[0m\u001b[1;33m,\u001b[0m\u001b[1;34m'ko'\u001b[0m\u001b[1;33m)\u001b[0m\u001b[1;33m,\u001b[0m\u001b[1;33m(\u001b[0m\u001b[1;34m'address'\u001b[0m\u001b[1;33m,\u001b[0m\u001b[0mrestaurant\u001b[0m\u001b[1;33m)\u001b[0m\u001b[1;33m]\u001b[0m\u001b[1;33m\u001b[0m\u001b[0m\n\u001b[1;32m      6\u001b[0m     \u001b[0mresponse\u001b[0m \u001b[1;33m=\u001b[0m \u001b[0mrequests\u001b[0m\u001b[1;33m.\u001b[0m\u001b[0mget\u001b[0m\u001b[1;33m(\u001b[0m\u001b[1;34m\"http://maps.googleapis.com/maps/api/geocode/json\"\u001b[0m\u001b[1;33m,\u001b[0m \u001b[0mparams\u001b[0m\u001b[1;33m=\u001b[0m\u001b[0mget_params\u001b[0m\u001b[1;33m)\u001b[0m\u001b[1;33m.\u001b[0m\u001b[0mjson\u001b[0m\u001b[1;33m(\u001b[0m\u001b[1;33m)\u001b[0m\u001b[1;33m\u001b[0m\u001b[0m\n\u001b[0;32m----> 7\u001b[0;31m     \u001b[0mprint\u001b[0m\u001b[1;33m(\u001b[0m\u001b[0mrestaurant\u001b[0m\u001b[1;33m,\u001b[0m \u001b[0mresponse\u001b[0m\u001b[1;33m[\u001b[0m\u001b[1;34m'results'\u001b[0m\u001b[1;33m]\u001b[0m\u001b[1;33m[\u001b[0m\u001b[1;36m0\u001b[0m\u001b[1;33m]\u001b[0m\u001b[1;33m[\u001b[0m\u001b[1;34m'geometry'\u001b[0m\u001b[1;33m]\u001b[0m\u001b[1;33m[\u001b[0m\u001b[1;34m'location'\u001b[0m\u001b[1;33m]\u001b[0m\u001b[1;33m)\u001b[0m\u001b[1;33m\u001b[0m\u001b[0m\n\u001b[0m",
      "\u001b[0;31mIndexError\u001b[0m: list index out of range"
     ]
    }
   ],
   "source": [
    "import requests\n",
    "import json\n",
    "restaurant_list = ['모힝','육첩반상','차이나당','쟝블랑제리','김창일스시','코코미']\n",
    "for restaurant in restaurant_list:\n",
    "    get_params = [('sensor', 'false'),('language','ko'),('address',restaurant)]\n",
    "    response = requests.get(\"http://maps.googleapis.com/maps/api/geocode/json\", params=get_params).json()\n",
    "    print(restaurant, response['results'][0]['geometry']['location'])\n"
   ]
  },
  {
   "cell_type": "code",
   "execution_count": 103,
   "metadata": {
    "collapsed": false
   },
   "outputs": [
    {
     "name": "stdout",
     "output_type": "stream",
     "text": [
      "126.9583202 37.4773098\n",
      "126.9638483 37.4760719\n",
      "126.9619181 37.4770362\n",
      "126.9600689 37.4790489\n",
      "126.9588012 37.4771077\n",
      "126.9577847 37.4777646\n",
      "126.9620175 37.4768017\n",
      "126.9637753 37.4760044\n",
      "126.9671789 37.4751395\n",
      "126.9626021 37.4765785\n",
      "126.9598538 37.4791881\n",
      "126.965529 37.474296\n",
      "126.9583514 37.4771776\n",
      "126.9579522 37.4778804\n",
      "131.2875208 50.6103769\n",
      "126.9587286 37.4774129\n",
      "126.9611126 37.477712\n",
      "126.9569685 37.4793081\n",
      "126.9639291 37.4773916\n",
      "126.9600462 37.4775077\n",
      "127.0101985 37.4880719\n",
      "126.958107 37.4771088\n",
      "126.9581171 37.47727649999999\n",
      "127.3999028 37.4921348\n",
      "126.9587247 37.47724669999999\n",
      "126.9621446 37.4773318\n",
      "-9.498885 38.780417\n",
      "127.0241539 37.5073173\n",
      "126.958596 37.476979\n",
      "126.4906238 33.4883612\n",
      "126.9628668 37.4768687\n",
      "126.9521967 37.4806282\n",
      "126.9636957 37.4766567\n",
      "127.1129265 37.6398061\n",
      "126.9632709 37.4774876\n",
      "126.9326988 37.4880718\n",
      "126.9483343 37.5406208\n",
      "126.958333 37.4781513\n",
      "126.9649456 37.4755457\n",
      "126.9671789 37.4751395\n",
      "126.9589813 37.4796944\n",
      "126.7928366 37.4505717\n",
      "126.9584182 37.4771168\n",
      "-73.6107241 45.5311312\n"
     ]
    }
   ],
   "source": [
    "import requests\n",
    "from bs4 import BeautifulSoup\n",
    "import json\n",
    "\n",
    "\n",
    "restaurant_list = []\n",
    "for page in range(1,11):\n",
    "    get_params = [('keyword', '낙성대'),('page',page)]\n",
    "    response = requests.get(\"http://mangoplate.com/search/낙성대\", params=get_params)\n",
    "    html = response.text\n",
    "    soup = BeautifulSoup(html, 'html.parser')\n",
    "    tag_list = soup.select('h2.title')\n",
    "    \n",
    "    for tag in tag_list:\n",
    "        restaurant = tag.text.split(',')\n",
    "        restaurant_list += restaurant\n",
    "'''\n",
    "for restaurant in restaurant_list:\n",
    "    get_params = [('sensor', 'false'),('language','ko'),('address',restaurant)]\n",
    "    response = requests.get(\"http://maps.googleapis.com/maps/api/geocode/json\", params=get_params).json()\n",
    "    try:\n",
    "        restaurnat_dic = {restaurant:(response['results'][0]['geometry']['location']['lng'],response['results'][0]['geometry']['location']['lat'])}\n",
    "        #print(list(restaurnat_dic.keys())[0])\n",
    "        print(response['results'][0]['geometry']['location']['lng'],response['results'][0]['geometry']['location']['lat'])\n",
    "    except:\n",
    "        pass\n",
    "\n",
    "'''"
   ]
  },
  {
   "cell_type": "code",
   "execution_count": null,
   "metadata": {
    "collapsed": true
   },
   "outputs": [],
   "source": []
  }
 ],
 "metadata": {
  "kernelspec": {
   "display_name": "Python 3",
   "language": "python",
   "name": "python3"
  },
  "language_info": {
   "codemirror_mode": {
    "name": "ipython",
    "version": 3
   },
   "file_extension": ".py",
   "mimetype": "text/x-python",
   "name": "python",
   "nbconvert_exporter": "python",
   "pygments_lexer": "ipython3",
   "version": "3.6.0"
  }
 },
 "nbformat": 4,
 "nbformat_minor": 2
}
