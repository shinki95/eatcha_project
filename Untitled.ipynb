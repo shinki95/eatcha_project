{
 "cells": [
  {
   "cell_type": "code",
   "execution_count": 1,
   "metadata": {
    "collapsed": false
   },
   "outputs": [
    {
     "ename": "SyntaxError",
     "evalue": "invalid syntax (<ipython-input-1-0bfe2bb37819>, line 2)",
     "output_type": "error",
     "traceback": [
      "\u001b[0;36m  File \u001b[0;32m\"<ipython-input-1-0bfe2bb37819>\"\u001b[0;36m, line \u001b[0;32m2\u001b[0m\n\u001b[0;31m    html = request.get(http://maps.googleapis.com/maps/api/geocode/json?sensor=false&language=ko&address=%EC%B0%A8%EC%9D%B4%EB%82%98%EB%8B%B9).text\u001b[0m\n\u001b[0m                           ^\u001b[0m\n\u001b[0;31mSyntaxError\u001b[0m\u001b[0;31m:\u001b[0m invalid syntax\n"
     ]
    }
   ],
   "source": [
    "def lng_lat(url):\n",
    "    html = request.get(http://maps.googleapis.com/maps/api/geocode/json?sensor=false&language=ko&address=%EC%B0%A8%EC%9D%B4%EB%82%98%EB%8B%B9).text"
   ]
  },
  {
   "cell_type": "code",
   "execution_count": null,
   "metadata": {
    "collapsed": true
   },
   "outputs": [],
   "source": []
  }
 ],
 "metadata": {
  "kernelspec": {
   "display_name": "Python 3",
   "language": "python",
   "name": "python3"
  },
  "language_info": {
   "codemirror_mode": {
    "name": "ipython",
    "version": 3
   },
   "file_extension": ".py",
   "mimetype": "text/x-python",
   "name": "python",
   "nbconvert_exporter": "python",
   "pygments_lexer": "ipython3",
   "version": "3.6.0"
  }
 },
 "nbformat": 4,
 "nbformat_minor": 2
}
